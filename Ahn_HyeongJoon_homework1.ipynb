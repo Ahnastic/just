{
 "cells": [
  {
   "cell_type": "code",
   "execution_count": 1,
   "id": "ed165994",
   "metadata": {},
   "outputs": [
    {
     "name": "stdout",
     "output_type": "stream",
     "text": [
      "1+2+...+1000 = 499500\n"
     ]
    }
   ],
   "source": [
    "# Ahn HyeongJoon_20231190\n",
    "# calculates 1+2+...+1000\n",
    "sum = 0\n",
    "for a in range(1,1000):\n",
    "    sum+=a\n",
    "print(\"1+2+...+1000 =\",sum)"
   ]
  },
  {
   "cell_type": "code",
   "execution_count": 2,
   "id": "f25c0729",
   "metadata": {},
   "outputs": [
    {
     "name": "stdout",
     "output_type": "stream",
     "text": [
      "1^2+2^2+...+1000^2 = 332833500\n"
     ]
    }
   ],
   "source": [
    "# calculates 1^2+2^2+...+1000^2\n",
    "sum=0\n",
    "for a in range(1,1000):\n",
    "    sum+=a**2\n",
    "print(\"1^2+2^2+...+1000^2 =\",sum)"
   ]
  },
  {
   "cell_type": "code",
   "execution_count": 3,
   "id": "b6309ae5",
   "metadata": {
    "scrolled": true
   },
   "outputs": [
    {
     "name": "stdout",
     "output_type": "stream",
     "text": [
      "sum of each line on 'calculate.txt' = 495\n"
     ]
    }
   ],
   "source": [
    "# calculates the number of lines in a given file\n",
    "# given file = calculate.txt\n",
    "sum=0\n",
    "f=open('/home/ahn/Downloads/calculate.txt',mode=\"rt\")\n",
    "for a in f.readlines():\n",
    "    sum+=int(a)\n",
    "print(\"sum of each line on 'calculate.txt' =\",sum)"
   ]
  },
  {
   "cell_type": "code",
   "execution_count": 6,
   "id": "4b23a9b9",
   "metadata": {},
   "outputs": [
    {
     "name": "stdout",
     "output_type": "stream",
     "text": [
      "percent of C+G content in the DNA =51.5\n"
     ]
    }
   ],
   "source": [
    "# make random DNA Sequence_file_200bp\n",
    "# count the percent of C+G persent in the DNA\n",
    "import random\n",
    "seq=''.join(random.choice('ATGC')for _ in range(200))\n",
    "\n",
    "with open('DNA_random_Sequence200.txt','w') as f:\n",
    "    f.write(seq)\n",
    "    \n",
    "total_base= len(seq)\n",
    "c = seq.count('C')\n",
    "g = seq.count('G')\n",
    "cg_percent=((c+g)/total_base)*100\n",
    "\n",
    "#f-string formating, available at python 3.6<\n",
    "print(f\"percent of C+G content in the DNA ={cg_percent}\")\n",
    "\n",
    "    \n",
    "    \n"
   ]
  },
  {
   "cell_type": "code",
   "execution_count": null,
   "id": "41730ef7",
   "metadata": {},
   "outputs": [],
   "source": []
  }
 ],
 "metadata": {
  "kernelspec": {
   "display_name": "Python 3 (ipykernel)",
   "language": "python",
   "name": "python3"
  },
  "language_info": {
   "codemirror_mode": {
    "name": "ipython",
    "version": 3
   },
   "file_extension": ".py",
   "mimetype": "text/x-python",
   "name": "python",
   "nbconvert_exporter": "python",
   "pygments_lexer": "ipython3",
   "version": "3.11.4"
  }
 },
 "nbformat": 4,
 "nbformat_minor": 5
}
